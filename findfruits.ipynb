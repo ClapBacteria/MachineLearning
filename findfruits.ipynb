{
  "nbformat": 4,
  "nbformat_minor": 0,
  "metadata": {
    "colab": {
      "provenance": [],
      "authorship_tag": "ABX9TyMpIfEVuVPJm2oyZGpuCRI4",
      "include_colab_link": true
    },
    "kernelspec": {
      "name": "python3",
      "display_name": "Python 3"
    },
    "language_info": {
      "name": "python"
    }
  },
  "cells": [
    {
      "cell_type": "markdown",
      "metadata": {
        "id": "view-in-github",
        "colab_type": "text"
      },
      "source": [
        "<a href=\"https://colab.research.google.com/github/ClapBacteria/MachineLearning/blob/main/findfruits.ipynb\" target=\"_parent\"><img src=\"https://colab.research.google.com/assets/colab-badge.svg\" alt=\"Open In Colab\"/></a>"
      ]
    },
    {
      "cell_type": "code",
      "execution_count": 1,
      "metadata": {
        "id": "eV2rRaOSHSg_"
      },
      "outputs": [],
      "source": [
        "!wget https://bit.ly/fruits_300_data -o fruits_300.npy"
      ]
    },
    {
      "cell_type": "code",
      "source": [
        "!ls -al"
      ],
      "metadata": {
        "colab": {
          "base_uri": "https://localhost:8080/"
        },
        "id": "slqqcgcMHuPj",
        "outputId": "d5931ea4-6f92-44a2-a34b-1d96b37f7824"
      },
      "execution_count": null,
      "outputs": [
        {
          "output_type": "stream",
          "name": "stdout",
          "text": [
            "total 2956\n",
            "drwxr-xr-x 1 root root    4096 Nov  7 05:17 .\n",
            "drwxr-xr-x 1 root root    4096 Nov  7 05:06 ..\n",
            "drwxr-xr-x 4 root root    4096 Nov  5 14:22 .config\n",
            "-rw-r--r-- 1 root root 3000128 Nov  7 05:17 fruits_300_data\n",
            "-rw-r--r-- 1 root root    5706 Nov  7 05:17 fruits_300.npy\n",
            "drwxr-xr-x 1 root root    4096 Nov  5 14:22 sample_data\n"
          ]
        }
      ]
    },
    {
      "cell_type": "code",
      "source": [
        "import numpy as np\n",
        "fruits = np.load('fruits_300_data')\n",
        "print(fruits.shape)\n"
      ],
      "metadata": {
        "colab": {
          "base_uri": "https://localhost:8080/"
        },
        "id": "90QFKjk3HxIT",
        "outputId": "9e6365fe-c23e-45e4-cdff-8934c0df88e9"
      },
      "execution_count": null,
      "outputs": [
        {
          "output_type": "stream",
          "name": "stdout",
          "text": [
            "(300, 100, 100)\n"
          ]
        }
      ]
    },
    {
      "cell_type": "code",
      "source": [
        "import matplotlib.pyplot as plt\n",
        "plt.imshow(fruits[200], cmap='gray')\n",
        "plt.show\n",
        "print(fruits[50, 80, :])"
      ],
      "metadata": {
        "colab": {
          "base_uri": "https://localhost:8080/",
          "height": 542
        },
        "id": "R4QvwF7fISc4",
        "outputId": "70b191af-fbf5-43e8-913b-37a5877f64e1"
      },
      "execution_count": null,
      "outputs": [
        {
          "output_type": "stream",
          "name": "stdout",
          "text": [
            "[  1   1   1   1   1   1   1   1   1   3   2   2  97 106 110 106 110 108\n",
            " 110 112 109 109 115 110 110 108 110 113 115 117 116 114 117 120 119 116\n",
            " 120 124 126 126 126 126 128 130 131 132 133 134 137 138 140 144 150 155\n",
            " 157 158 161 159 165 168 169 171 173 177 180 182 184 188 190 191 194 195\n",
            " 202 204 211 214 217 219 220 222 224 230 222 227 228 229 229 230 227 197\n",
            "  55   8   2   1   4   2   1   1   1   1]\n"
          ]
        },
        {
          "output_type": "display_data",
          "data": {
            "text/plain": [
              "<Figure size 640x480 with 1 Axes>"
            ],
            "image/png": "[encoded data removed]"
          },
          "metadata": {}
        }
      ]
    },
    {
      "cell_type": "code",
      "source": [
        "apple = fruits[0:100].reshape(-1, 100*100)\n",
        "pineapple = fruits[100:200].reshape(-1, 100*100)\n",
        "banana = fruits[200:300].reshape(-1, 100*100)\n",
        "#print(apple.shape)\n",
        "print(apple.mean(axis=1))"
      ],
      "metadata": {
        "colab": {
          "base_uri": "https://localhost:8080/"
        },
        "id": "xVM8-epHLKeD",
        "outputId": "d47ad2cd-68ba-4161-f199-c9f3f7070207"
      },
      "execution_count": null,
      "outputs": [
        {
          "output_type": "stream",
          "name": "stdout",
          "text": [
            "[ 88.3346  97.9249  87.3709  98.3703  92.8705  82.6439  94.4244  95.5999\n",
            "  90.681   81.6226  87.0578  95.0745  93.8416  87.017   97.5078  87.2019\n",
            "  88.9827 100.9158  92.7823 100.9184 104.9854  88.674   99.5643  97.2495\n",
            "  94.1179  92.1935  95.1671  93.3322 102.8967  94.6695  90.5285  89.0744\n",
            "  97.7641  97.2938 100.7564  90.5236 100.2542  85.8452  96.4615  97.1492\n",
            "  90.711  102.3193  87.1629  89.8751  86.7327  86.3991  95.2865  89.1709\n",
            "  96.8163  91.6604  96.1065  99.6829  94.9718  87.4812  89.2596  89.5268\n",
            "  93.799   97.3983  87.151   97.825  103.22    94.4239  83.6657  83.5159\n",
            " 102.8453  87.0379  91.2742 100.4848  93.8388  90.8568  97.4616  97.5022\n",
            "  82.446   87.1789  96.9206  90.3135  90.565   97.6538  98.0919  93.6252\n",
            "  87.3867  84.7073  89.1135  86.7646  88.7301  86.643   96.7323  97.2604\n",
            "  81.9424  87.1687  97.2066  83.4712  95.9781  91.8096  98.4086 100.7823\n",
            " 101.556  100.7027  91.6098  88.8976]\n"
          ]
        }
      ]
    },
    {
      "cell_type": "code",
      "source": [
        "import matplotlib.pyplot as plt\n",
        "plt.hist(apple.mean(axis=1), alpha=0.8)\n",
        "plt.hist(pineapple.mean(axis=1), alpha=0.8)\n",
        "plt.hist(banana.mean(axis=1), alpha=0.8)\n",
        "plt.legend(['apple', 'pineapple', 'banana'])\n",
        "plt.show\n"
      ],
      "metadata": {
        "colab": {
          "base_uri": "https://localhost:8080/",
          "height": 632
        },
        "id": "1yZZgWCTCofE",
        "outputId": "876f31fa-3466-4cd2-e64a-b910b74928f2"
      },
      "execution_count": null,
      "outputs": [
        {
          "output_type": "error",
          "ename": "AttributeError",
          "evalue": "'numpy.ndarray' object attribute 'mean' is read-only",
          "traceback": [
            "\u001b[0;31m---------------------------------------------------------------------------\u001b[0m",
            "\u001b[0;31mAttributeError\u001b[0m                            Traceback (most recent call last)",
            "\u001b[0;32m<ipython-input-22-cf1a350411f4>\u001b[0m in \u001b[0;36m<cell line: 7>\u001b[0;34m()\u001b[0m\n\u001b[1;32m      5\u001b[0m \u001b[0mplt\u001b[0m\u001b[0;34m.\u001b[0m\u001b[0mlegend\u001b[0m\u001b[0;34m(\u001b[0m\u001b[0;34m[\u001b[0m\u001b[0;34m'apple'\u001b[0m\u001b[0;34m,\u001b[0m \u001b[0;34m'pineapple'\u001b[0m\u001b[0;34m,\u001b[0m \u001b[0;34m'banana'\u001b[0m\u001b[0;34m]\u001b[0m\u001b[0;34m)\u001b[0m\u001b[0;34m\u001b[0m\u001b[0;34m\u001b[0m\u001b[0m\n\u001b[1;32m      6\u001b[0m \u001b[0mplt\u001b[0m\u001b[0;34m.\u001b[0m\u001b[0mshow\u001b[0m\u001b[0;34m\u001b[0m\u001b[0;34m\u001b[0m\u001b[0m\n\u001b[0;32m----> 7\u001b[0;31m \u001b[0mapple\u001b[0m\u001b[0;34m.\u001b[0m\u001b[0mmean\u001b[0m\u001b[0;34m=\u001b[0m\u001b[0mapple\u001b[0m\u001b[0;34m.\u001b[0m\u001b[0mmean\u001b[0m\u001b[0;34m(\u001b[0m\u001b[0maxis\u001b[0m\u001b[0;34m=\u001b[0m\u001b[0;36m0\u001b[0m\u001b[0;34m)\u001b[0m\u001b[0;34m.\u001b[0m\u001b[0mreshape\u001b[0m\u001b[0;34m(\u001b[0m\u001b[0;36m100\u001b[0m\u001b[0;34m,\u001b[0m\u001b[0;36m100\u001b[0m\u001b[0;34m)\u001b[0m\u001b[0;34m\u001b[0m\u001b[0;34m\u001b[0m\u001b[0m\n\u001b[0m\u001b[1;32m      8\u001b[0m \u001b[0mpineapple\u001b[0m\u001b[0;34m.\u001b[0m\u001b[0mmean\u001b[0m\u001b[0;34m=\u001b[0m\u001b[0mpineapple\u001b[0m\u001b[0;34m.\u001b[0m\u001b[0mmean\u001b[0m\u001b[0;34m(\u001b[0m\u001b[0maxis\u001b[0m\u001b[0;34m=\u001b[0m\u001b[0;36m0\u001b[0m\u001b[0;34m)\u001b[0m\u001b[0;34m.\u001b[0m\u001b[0mreshape\u001b[0m\u001b[0;34m(\u001b[0m\u001b[0;36m100\u001b[0m\u001b[0;34m,\u001b[0m\u001b[0;36m100\u001b[0m\u001b[0;34m)\u001b[0m\u001b[0;34m\u001b[0m\u001b[0;34m\u001b[0m\u001b[0m\n\u001b[1;32m      9\u001b[0m \u001b[0mbanana\u001b[0m\u001b[0;34m.\u001b[0m\u001b[0mmean\u001b[0m\u001b[0;34m=\u001b[0m\u001b[0mbanana\u001b[0m\u001b[0;34m.\u001b[0m\u001b[0mmean\u001b[0m\u001b[0;34m(\u001b[0m\u001b[0maxis\u001b[0m\u001b[0;34m=\u001b[0m\u001b[0;36m0\u001b[0m\u001b[0;34m)\u001b[0m\u001b[0;34m.\u001b[0m\u001b[0mreshape\u001b[0m\u001b[0;34m(\u001b[0m\u001b[0;36m100\u001b[0m\u001b[0;34m,\u001b[0m\u001b[0;36m100\u001b[0m\u001b[0;34m)\u001b[0m\u001b[0;34m\u001b[0m\u001b[0;34m\u001b[0m\u001b[0m\n",
            "\u001b[0;31mAttributeError\u001b[0m: 'numpy.ndarray' object attribute 'mean' is read-only"
          ]
        },
        {
          "output_type": "display_data",
          "data": {
            "text/plain": [
              "<Figure size 640x480 with 1 Axes>"
            ],
            "image/png": "[encoded data removed]"
          },
          "metadata": {}
        }
      ]
    },
    {
      "cell_type": "code",
      "source": [
        "import numpy as np\n",
        "apple_mean = apple.mean(axis=0).reshape(100,100)\n",
        "pineapple_mean = pineapple.mean(axis=0).reshape(100,100)\n",
        "banana_mean = banana.mean(axis=0).reshape(100,100)\n",
        "\n",
        "abs_diff = np.abs(fruits - apple_mean)\n",
        "abs_mean = np.mean(abs_diff, axis=(1,2))\n",
        "print(abs_diff.shape)\n",
        "print(abs_mean.shape)\n",
        "apple_index = np.argsort(abs_mean)[0:100]\n",
        "print(apple_index)"
      ],
      "metadata": {
        "colab": {
          "base_uri": "https://localhost:8080/",
          "height": 219
        },
        "id": "Ur-ZutjsEUev",
        "outputId": "d16ba31b-59d3-4a44-b0b2-0c9aac9a3656"
      },
      "execution_count": null,
      "outputs": [
        {
          "output_type": "error",
          "ename": "ValueError",
          "evalue": "cannot reshape array of size 100 into shape (100,100)",
          "traceback": [
            "\u001b[0;31m---------------------------------------------------------------------------\u001b[0m",
            "\u001b[0;31mValueError\u001b[0m                                Traceback (most recent call last)",
            "\u001b[0;32m<ipython-input-30-da59a011e362>\u001b[0m in \u001b[0;36m<cell line: 2>\u001b[0;34m()\u001b[0m\n\u001b[1;32m      1\u001b[0m \u001b[0;32mimport\u001b[0m \u001b[0mnumpy\u001b[0m \u001b[0;32mas\u001b[0m \u001b[0mnp\u001b[0m\u001b[0;34m\u001b[0m\u001b[0;34m\u001b[0m\u001b[0m\n\u001b[0;32m----> 2\u001b[0;31m \u001b[0mapple_mean\u001b[0m \u001b[0;34m=\u001b[0m \u001b[0mapple\u001b[0m\u001b[0;34m.\u001b[0m\u001b[0mmean\u001b[0m\u001b[0;34m(\u001b[0m\u001b[0maxis\u001b[0m\u001b[0;34m=\u001b[0m\u001b[0;36m0\u001b[0m\u001b[0;34m)\u001b[0m\u001b[0;34m.\u001b[0m\u001b[0mreshape\u001b[0m\u001b[0;34m(\u001b[0m\u001b[0;36m100\u001b[0m\u001b[0;34m,\u001b[0m\u001b[0;36m100\u001b[0m\u001b[0;34m)\u001b[0m\u001b[0;34m\u001b[0m\u001b[0;34m\u001b[0m\u001b[0m\n\u001b[0m\u001b[1;32m      3\u001b[0m \u001b[0mpineapple_mean\u001b[0m \u001b[0;34m=\u001b[0m \u001b[0mpineapple\u001b[0m\u001b[0;34m.\u001b[0m\u001b[0mmean\u001b[0m\u001b[0;34m(\u001b[0m\u001b[0maxis\u001b[0m\u001b[0;34m=\u001b[0m\u001b[0;36m0\u001b[0m\u001b[0;34m)\u001b[0m\u001b[0;34m.\u001b[0m\u001b[0mreshape\u001b[0m\u001b[0;34m(\u001b[0m\u001b[0;36m100\u001b[0m\u001b[0;34m,\u001b[0m\u001b[0;36m100\u001b[0m\u001b[0;34m)\u001b[0m\u001b[0;34m\u001b[0m\u001b[0;34m\u001b[0m\u001b[0m\n\u001b[1;32m      4\u001b[0m \u001b[0mbanana_mean\u001b[0m \u001b[0;34m=\u001b[0m \u001b[0mbanana\u001b[0m\u001b[0;34m.\u001b[0m\u001b[0mmean\u001b[0m\u001b[0;34m(\u001b[0m\u001b[0maxis\u001b[0m\u001b[0;34m=\u001b[0m\u001b[0;36m0\u001b[0m\u001b[0;34m)\u001b[0m\u001b[0;34m.\u001b[0m\u001b[0mreshape\u001b[0m\u001b[0;34m(\u001b[0m\u001b[0;36m100\u001b[0m\u001b[0;34m,\u001b[0m\u001b[0;36m100\u001b[0m\u001b[0;34m)\u001b[0m\u001b[0;34m\u001b[0m\u001b[0;34m\u001b[0m\u001b[0m\n\u001b[1;32m      5\u001b[0m \u001b[0;34m\u001b[0m\u001b[0m\n",
            "\u001b[0;31mValueError\u001b[0m: cannot reshape array of size 100 into shape (100,100)"
          ]
        }
      ]
    },
    {
      "cell_type": "code",
      "source": [
        "import numpy as np\n",
        "fruits = np.load('fruits_300_data')\n",
        "print(fruits.shape)\n",
        "fruits_2d = fruits.reshape(-1, 100*100)\n",
        "print(fruits_2d.shape)\n",
        "\n",
        "from sklearn.cluster import KMeans\n",
        "km = KMeans(n_clusters=3, random_state=42)\n",
        "km.fit(fruits_2d)\n",
        "print(km.labels_)"
      ],
      "metadata": {
        "colab": {
          "base_uri": "https://localhost:8080/"
        },
        "id": "pjonbm7RJ1Nn",
        "outputId": "c5ac38ed-cace-46a5-e83a-1463ed846a53"
      },
      "execution_count": null,
      "outputs": [
        {
          "output_type": "stream",
          "name": "stdout",
          "text": [
            "(300, 100, 100)\n",
            "(300, 10000)\n",
            "[2 2 2 2 2 0 2 2 2 2 2 2 2 2 2 2 2 2 0 2 2 2 2 2 2 2 0 2 2 2 2 2 2 2 2 2 2\n",
            " 2 2 2 2 2 0 2 0 2 2 2 2 2 2 2 0 2 2 2 2 2 2 2 2 2 0 0 2 2 2 2 2 2 2 2 0 2\n",
            " 2 2 2 2 2 2 2 2 2 2 2 2 2 2 2 2 2 0 2 2 2 2 2 2 2 2 0 0 0 0 0 0 0 0 0 0 0\n",
            " 0 0 0 0 0 0 0 0 0 0 0 0 0 0 0 0 0 0 0 0 0 0 0 0 0 0 0 0 0 0 0 0 0 0 0 0 0\n",
            " 0 0 0 0 0 0 0 0 0 0 0 0 0 0 0 0 0 0 0 0 0 0 0 0 0 0 0 0 0 0 0 0 0 0 0 0 0\n",
            " 0 0 0 0 0 0 0 0 0 0 0 0 0 0 0 1 1 1 1 1 1 1 1 1 1 1 1 1 1 1 1 1 1 1 1 1 1\n",
            " 1 1 1 1 1 1 1 1 1 0 1 1 1 1 1 1 1 1 1 1 1 1 1 1 1 1 1 1 1 1 1 1 1 1 1 1 1\n",
            " 1 1 1 1 1 1 1 1 1 1 1 1 1 1 0 1 1 1 1 1 1 1 1 1 1 1 1 1 1 1 1 1 1 1 1 1 1\n",
            " 1 1 1 1]\n"
          ]
        }
      ]
    }
  ]
}